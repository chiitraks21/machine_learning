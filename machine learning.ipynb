{
 "cells": [
  {
   "cell_type": "code",
   "execution_count": 27,
   "metadata": {},
   "outputs": [],
   "source": [
    "import pandas as pd\n",
    "import numpy as np\n",
    "import sklearn\n",
    "from sklearn import linear_model\n",
    "from sklearn.utils import shuffle\n",
    "import matplotlib.pyplot as pyplot\n",
    "import pickle\n",
    "from matplotlib import style"
   ]
  },
  {
   "cell_type": "code",
   "execution_count": 28,
   "metadata": {},
   "outputs": [],
   "source": [
    "data = pd.read_csv(r\"C:\\Users\\Chiitrak Sarkar\\Desktop\\student-mat.csv\", sep=\";\")"
   ]
  },
  {
   "cell_type": "code",
   "execution_count": 29,
   "metadata": {},
   "outputs": [],
   "source": [
    "data = data[[\"G1\",\"G2\",\"G3\",\"studytime\",\"failures\",\"absences\"]]\n",
    "predict = \"G3\"\n",
    "X = np.array(data.drop([predict],1))\n",
    "Y = np.array(data[predict])\n",
    "x_train,x_test,y_train,y_test = sklearn.model_selection.train_test_split(X,Y,test_size=0.1)\n",
    "\"\"\"linear = linear_model.LinearRegression()\n",
    "linear.fit(x_train,y_train)\n",
    "acc = linear.score(x_test,y_test)\n",
    "print(acc)\n",
    "with open(\"studentmodel.pickle\",\"wb\") as f:\n",
    "    pickle.dump(linear, f)\"\"\"\n",
    "    \n",
    "pickle_in = open(\"studentmodel.pickle\",\"rb\")\n",
    "linear = pickle.load(pickle_in)"
   ]
  },
  {
   "cell_type": "code",
   "execution_count": 30,
   "metadata": {},
   "outputs": [
    {
     "name": "stdout",
     "output_type": "stream",
     "text": [
      "coefficient :\n",
      " [ 0.15884544  0.97134877 -0.17877472 -0.37851704  0.03797498]\n",
      "Intercept:\n",
      " -1.483076864303973\n",
      "9.103766381070688 [10 10  4  0  0] 10\n",
      "7.215499776470791 [8 9 1 3 0] 10\n",
      "5.016488932462805 [6 6 2 0 2] 6\n",
      "9.415583142256827 [ 8  9  1  1 38] 8\n",
      "12.844952937422235 [12 13  2  0  4] 13\n",
      "12.332094770708958 [14 12  1  0  3] 12\n",
      "12.40450803048296 [11 13  4  0  6] 14\n",
      "10.619617595277756 [11 11  1  1  6] 10\n",
      "13.912180955370705 [11 14  1  0  6] 14\n",
      "9.620161250873908 [11 10  2  0  0] 10\n",
      "18.373169959386544 [18 18  4  0  6] 18\n",
      "7.0420819556168315 [7 8 2 0 0] 0\n",
      "7.550880514236942 [ 9  8  2  1 15] 8\n",
      "17.86635005158503 [17 17  2  0 13] 17\n",
      "9.378420340911783 [ 9 10  2  0  2] 10\n",
      "9.378420340911783 [ 9 10  2  0  2] 9\n",
      "8.077142795870753 [10  8  1  0 10] 9\n",
      "5.46803402986685 [7 6 1 0 5] 7\n",
      "11.96467792548818 [14 12  2  1  8] 12\n",
      "-0.9284505617933643 [7 0 1 1 0] 0\n",
      "14.312767301745865 [14 14  1  0  4] 14\n",
      "18.909494109471822 [18 18  1  0  6] 18\n",
      "9.613215740188762 [10 10  2  0  4] 11\n",
      "8.977833994536622 [ 6 10  2  0  4] 10\n",
      "6.988332373682425 [7 8 4 0 8] 8\n",
      "8.518951551684125 [ 8  8  1  0 30] 8\n",
      "6.9812557927573575 [9 8 2 1 0] 0\n",
      "13.135769019281103 [14 13  3  0  8] 14\n",
      "12.019465829435891 [15 12  3  0  0] 14\n",
      "11.949554125483711 [12 12  2  0  6] 12\n",
      "7.952604567559824 [9 9 2 1 0] 0\n",
      "7.098102638198718 [8 8 3 0 2] 10\n",
      "8.489967039658405 [10  9  2  0  0] 0\n",
      "10.084039317376897 [12 10  2  1 18] 10\n",
      "10.454864970192878 [10 11  4  0 10] 11\n",
      "5.768166107992762 [7 7 2 1 2] 7\n",
      "12.059324390000006 [13 12  1  0  0] 12\n",
      "5.01895448973116 [ 6  6  2  2 22] 4\n",
      "7.7395226427626245 [ 9  8  2  0 10] 8\n",
      "8.324176092560224 [8 9 2 0 4] 10\n"
     ]
    }
   ],
   "source": [
    "print('coefficient :\\n', linear.coef_)\n",
    "print('Intercept:\\n', linear.intercept_)\n",
    "predictions = linear.predict(x_test)\n",
    "for x in range(len(predictions)):\n",
    "    print(predictions[x], x_test[x], y_test[x])"
   ]
  },
  {
   "cell_type": "code",
   "execution_count": 32,
   "metadata": {},
   "outputs": [
    {
     "data": {
      "image/png": "[encoded data removed]",
      "text/plain": [
       "<Figure size 432x288 with 1 Axes>"
      ]
     },
     "metadata": {},
     "output_type": "display_data"
    }
   ],
   "source": [
    "p = \"failures\"\n",
    "style.use(\"ggplot\")\n",
    "pyplot.scatter(data[p],data[\"G3\"])\n",
    "pyplot.xlabel(p)\n",
    "pyplot.ylabel(\"Final Grade\")\n",
    "pyplot.show()"
   ]
  },
  {
   "cell_type": "code",
   "execution_count": null,
   "metadata": {},
   "outputs": [],
   "source": []
  }
 ],
 "metadata": {
  "kernelspec": {
   "display_name": "Python 3",
   "language": "python",
   "name": "python3"
  },
  "language_info": {
   "codemirror_mode": {
    "name": "ipython",
    "version": 3
   },
   "file_extension": ".py",
   "mimetype": "text/x-python",
   "name": "python",
   "nbconvert_exporter": "python",
   "pygments_lexer": "ipython3",
   "version": "3.7.8"
  }
 },
 "nbformat": 4,
 "nbformat_minor": 4
}
