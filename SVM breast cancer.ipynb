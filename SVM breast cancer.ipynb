{
 "cells": [
  {
   "cell_type": "code",
   "execution_count": 83,
   "metadata": {},
   "outputs": [
    {
     "name": "stdout",
     "output_type": "stream",
     "text": [
      "[[1.018e+01 1.753e+01 6.512e+01 ... 5.575e-02 3.055e-01 8.797e-02]\n",
      " [1.861e+01 2.025e+01 1.221e+02 ... 1.490e-01 2.341e-01 7.421e-02]\n",
      " [1.411e+01 1.288e+01 9.003e+01 ... 5.890e-02 2.100e-01 7.083e-02]\n",
      " ...\n",
      " [1.426e+01 1.965e+01 9.783e+01 ... 1.505e-01 2.398e-01 1.082e-01]\n",
      " [1.026e+01 1.222e+01 6.575e+01 ... 6.696e-02 2.937e-01 7.722e-02]\n",
      " [1.846e+01 1.852e+01 1.211e+02 ... 1.642e-01 3.695e-01 8.579e-02]] [1 0 1 0 0 1 1 0 1 0 1 1 1 1 0 1 1 1 1 0 1 1 1 1 0 1 1 0 1 1 1 1 1 0 1 0 1\n",
      " 0 0 0 0 0 1 0 1 1 0 1 1 0 0 1 1 1 1 1 0 0 1 1 0 0 1 1 0 0 0 0 1 1 1 1 1 1\n",
      " 1 1 1 0 1 1 1 0 1 0 0 0 1 0 1 1 1 1 0 0 1 0 0 1 0 1 1 0 1 0 1 0 1 0 1 1 1\n",
      " 1 0 0 1 1 1 0 1 1 0 1 1 1 0 0 0 0 1 1 0 1 0 1 0 1 1 1 0 1 1 1 1 1 0 0 0 1\n",
      " 1 1 0 0 0 0 1 0 1 1 1 0 1 1 1 1 1 1 0 0 1 0 1 1 1 1 0 1 0 1 1 1 1 1 0 1 1\n",
      " 1 1 1 1 0 0 0 0 0 0 0 0 1 1 1 1 0 0 1 0 0 0 0 1 0 1 1 1 0 1 1 1 1 1 1 0 1\n",
      " 1 1 1 0 1 1 0 1 1 1 0 0 0 1 1 1 0 0 1 1 0 1 0 0 1 1 0 1 1 0 1 0 0 1 0 1 0\n",
      " 1 1 1 1 1 1 0 1 1 0 1 0 1 0 1 0 1 1 1 1 0 0 1 1 0 1 0 0 0 1 1 1 1 1 0 0 0\n",
      " 0 1 0 1 1 1 0 1 1 1 1 1 1 1 0 0 0 1 1 0 1 1 0 0 1 1 1 1 0 1 1 0 1 0 0 1 0\n",
      " 0 1 0 1 1 0 0 1 1 1 0 1 1 0 0 0 1 1 1 1 1 0 1 0 1 1 1 1 0 1 1 0 0 0 0 0 1\n",
      " 1 1 1 0 0 1 0 1 1 0 1 0 1 1 1 1 1 1 0 1 1 1 0 0 1 1 0 1 1 1 0 0 1 1 1 1 1\n",
      " 1 0 0 1 0 1 1 0 1 1 1 1 1 1 0 1 1 1 1 1 1 1 1 1 1 1 1 1 0 1 0 0 1 1 0 0 1\n",
      " 1 1 1 0 1 0 1 1 1 1 0]\n"
     ]
    }
   ],
   "source": [
    "import sklearn\n",
    "from sklearn import datasets\n",
    "from sklearn import svm\n",
    "from sklearn import metrics\n",
    "from sklearn.neighbors import KNeighborsClassifier\n",
    "cancer = datasets.load_breast_cancer()\n",
    "x = cancer.data\n",
    "y = cancer.target\n",
    "x_train,x_test,y_train,y_test = sklearn.model_selection.train_test_split(x,y,test_size=0.2)\n",
    "print(x_train,y_train)\n",
    "classes = ['malignant','benign']"
   ]
  },
  {
   "cell_type": "code",
   "execution_count": 84,
   "metadata": {},
   "outputs": [
    {
     "name": "stdout",
     "output_type": "stream",
     "text": [
      "0.956140350877193\n"
     ]
    }
   ],
   "source": [
    "clf = svm.SVC(kernel = \"linear\")\n",
    "clf.fit(x_train,y_train)\n",
    "y_pred = clf.predict(x_test)\n",
    "acc = metrics.accuracy_score(y_test,y_pred)\n",
    "print(acc)"
   ]
  }
 ],
 "metadata": {
  "kernelspec": {
   "display_name": "Python 3",
   "language": "python",
   "name": "python3"
  },
  "language_info": {
   "codemirror_mode": {
    "name": "ipython",
    "version": 3
   },
   "file_extension": ".py",
   "mimetype": "text/x-python",
   "name": "python",
   "nbconvert_exporter": "python",
   "pygments_lexer": "ipython3",
   "version": "3.7.8"
  }
 },
 "nbformat": 4,
 "nbformat_minor": 4
}
